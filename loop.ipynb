{
  "nbformat": 4,
  "nbformat_minor": 0,
  "metadata": {
    "colab": {
      "name": "Untitled1.ipynb",
      "provenance": []
    },
    "kernelspec": {
      "name": "python3",
      "display_name": "Python 3"
    },
    "language_info": {
      "name": "python"
    }
  },
  "cells": [
    {
      "cell_type": "code",
      "execution_count": null,
      "metadata": {
        "id": "pg-VvMklzaGA"
      },
      "outputs": [],
      "source": [
        "for x in range(45,210):\n",
        "    if x==100:\n",
        "        continue\n",
        "    if x==205:\n",
        "        break\n",
        "    print(x)"
      ]
    },
    {
      "cell_type": "code",
      "source": [
        "Ans=False\n",
        "while Ans==False:\n",
        "    Answer=int(input(\"what is the product of 7 * 24 ?\"))\n",
        "    if Answer==168:\n",
        "       break\n",
        "    else: \n",
        "     print('Your Answer is wrong try again..')"
      ],
      "metadata": {
        "colab": {
          "base_uri": "https://localhost:8080/"
        },
        "id": "OiJk3Obuzvt3",
        "outputId": "987d2e41-fb10-42be-a816-03a9773926be"
      },
      "execution_count": 13,
      "outputs": [
        {
          "name": "stdout",
          "output_type": "stream",
          "text": [
            "what is the product of 7 * 24 ?23\n",
            "Your Answer is wrong try again..\n",
            "what is the product of 7 * 24 ?168\n"
          ]
        }
      ]
    }
  ]
}